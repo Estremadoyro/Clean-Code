{
 "cells": [
  {
   "cell_type": "code",
   "execution_count": 9,
   "id": "tutorial-webmaster",
   "metadata": {},
   "outputs": [
    {
     "data": {
      "text/plain": [
       "defined class ServicioImpresion\n"
      ]
     },
     "execution_count": 9,
     "metadata": {},
     "output_type": "execute_result"
    }
   ],
   "source": [
    "class ServicioImpresion (val servicioA: ServicioEnvio,\n",
    "                         val servicioB: ServicioPDF){\n",
    "    def imprimir() = {\n",
    "        servicioA.enviar();\n",
    "        servicioB.pdf();\n",
    "    }\n",
    "}"
   ]
  },
  {
   "cell_type": "code",
   "execution_count": 4,
   "id": "international-restriction",
   "metadata": {},
   "outputs": [
    {
     "data": {
      "text/plain": [
       "defined class ServicioEnvio\n"
      ]
     },
     "execution_count": 4,
     "metadata": {},
     "output_type": "execute_result"
    }
   ],
   "source": [
    "class ServicioEnvio {\n",
    "    def enviar() = println(\"Enviando doc a imprimir\")\n",
    "}"
   ]
  },
  {
   "cell_type": "code",
   "execution_count": 5,
   "id": "musical-income",
   "metadata": {},
   "outputs": [
    {
     "data": {
      "text/plain": [
       "defined class ServicioPDF\n"
      ]
     },
     "execution_count": 5,
     "metadata": {},
     "output_type": "execute_result"
    }
   ],
   "source": [
    "class ServicioPDF {\n",
    "    def pdf() = println(\"Imprimiendo en formato pdf\")\n",
    "}"
   ]
  },
  {
   "cell_type": "code",
   "execution_count": 16,
   "id": "tropical-isolation",
   "metadata": {},
   "outputs": [
    {
     "data": {
      "text/plain": [
       "defined class ServicioEnvioAspecto\n"
      ]
     },
     "execution_count": 16,
     "metadata": {},
     "output_type": "execute_result"
    }
   ],
   "source": [
    "class ServicioEnvioAspecto extends ServicioEnvio {\n",
    "    override def enviar() = {\n",
    "        println(\"haciendo log del correo que vamos a enviar\");\n",
    "        super.enviar();\n",
    "    }\n",
    "}"
   ]
  },
  {
   "cell_type": "code",
   "execution_count": 17,
   "id": "simplified-factor",
   "metadata": {},
   "outputs": [
    {
     "name": "stdout",
     "output_type": "stream",
     "text": [
      "haciendo log del correo que vamos a enviar\n",
      "Enviando doc a imprimir\n",
      "Imprimiendo en formato pdf\n"
     ]
    },
    {
     "data": {
      "text/plain": [
       "miServicio: ServicioImpresion = ServicioImpresion@3ed8c9c9\n"
      ]
     },
     "execution_count": 17,
     "metadata": {},
     "output_type": "execute_result"
    }
   ],
   "source": [
    "val miServicio: ServicioImpresion = new ServicioImpresion(\n",
    "                                    new ServicioEnvioAspecto,\n",
    "                                    new ServicioPDF)\n",
    "miServicio.imprimir()"
   ]
  }
 ],
 "metadata": {
  "kernelspec": {
   "display_name": "spylon-kernel",
   "language": "scala",
   "name": "spylon-kernel"
  },
  "language_info": {
   "codemirror_mode": "text/x-scala",
   "file_extension": ".scala",
   "help_links": [
    {
     "text": "MetaKernel Magics",
     "url": "https://metakernel.readthedocs.io/en/latest/source/README.html"
    }
   ],
   "mimetype": "text/x-scala",
   "name": "scala",
   "pygments_lexer": "scala",
   "version": "0.4.1"
  }
 },
 "nbformat": 4,
 "nbformat_minor": 5
}
