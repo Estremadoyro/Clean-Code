{
 "cells": [
  {
   "cell_type": "markdown",
   "id": "proper-marking",
   "metadata": {},
   "source": [
    "#### Ejercicio 1"
   ]
  },
  {
   "cell_type": "code",
   "execution_count": 1,
   "id": "simplified-booking",
   "metadata": {},
   "outputs": [
    {
     "data": {
      "text/plain": [
       "Intitializing Scala interpreter ..."
      ]
     },
     "metadata": {},
     "output_type": "display_data"
    },
    {
     "data": {
      "text/plain": [
       "Spark Web UI available at http://192.168.1.33:4040\n",
       "SparkContext available as 'sc' (version = 3.1.1, master = local[*], app id = local-1616539420597)\n",
       "SparkSession available as 'spark'\n"
      ]
     },
     "metadata": {},
     "output_type": "display_data"
    },
    {
     "data": {
      "text/plain": [
       "defined object Repository\n"
      ]
     },
     "execution_count": 1,
     "metadata": {},
     "output_type": "execute_result"
    }
   ],
   "source": [
    "//Clean Code\n",
    "object Repository {\n",
    "    def getUser(userName: String): String = userName.split(\"@\")(0)\n",
    "    def loginUser(userName: String, userPassword: String): Boolean = {\n",
    "        userName == \"awainer\" && userPassword == \"123\"\n",
    "    }\n",
    "}"
   ]
  },
  {
   "cell_type": "code",
   "execution_count": 2,
   "id": "stuck-processor",
   "metadata": {},
   "outputs": [
    {
     "data": {
      "text/plain": [
       "defined class User\n"
      ]
     },
     "execution_count": 2,
     "metadata": {},
     "output_type": "execute_result"
    }
   ],
   "source": [
    "//Clean Code\n",
    "class User(val userName: String, val userPassword: String) {\n",
    "    require(userName != null, \"User name must not be empty\")\n",
    "    require(userPassword != null && userPassword != \"\", \n",
    "            \"User password must not be null\")\n",
    "}"
   ]
  },
  {
   "cell_type": "code",
   "execution_count": 3,
   "id": "valuable-rochester",
   "metadata": {},
   "outputs": [
    {
     "data": {
      "text/plain": [
       "user1: User = User@de42f5d\n",
       "user2: User = User@867001a\n",
       "user3: User = User@2829e557\n"
      ]
     },
     "execution_count": 3,
     "metadata": {},
     "output_type": "execute_result"
    }
   ],
   "source": [
    "val user1 = new User(\"awainer@demo.com\", \"1234\")\n",
    "val user2 = new User(\"\", \"123\")\n",
    "val user3 = new User(\"awainer@demo.com\", \"123\")"
   ]
  },
  {
   "cell_type": "code",
   "execution_count": 4,
   "id": "union-julian",
   "metadata": {},
   "outputs": [
    {
     "data": {
      "text/plain": [
       "checkLogin: (user: User)Boolean\n"
      ]
     },
     "execution_count": 4,
     "metadata": {},
     "output_type": "execute_result"
    }
   ],
   "source": [
    "//Clean Code\n",
    "def checkLogin(user: User): Boolean = {\n",
    "    val userParsed = Repository.getUser(user.userName)\n",
    "    val userVerified = Repository.loginUser(userParsed, user.userPassword)\n",
    "    \n",
    "    if (userVerified) {\n",
    "        println(\"Login successful\"); return true \n",
    "    }\n",
    "    println(\"Invalid username or password\"); false\n",
    "}"
   ]
  },
  {
   "cell_type": "code",
   "execution_count": 8,
   "id": "crazy-population",
   "metadata": {},
   "outputs": [
    {
     "name": "stdout",
     "output_type": "stream",
     "text": [
      "Invalid username or password\n",
      "Invalid username or password\n",
      "Login successful\n"
     ]
    },
    {
     "data": {
      "text/plain": [
       "res1: Boolean = true\n"
      ]
     },
     "execution_count": 8,
     "metadata": {},
     "output_type": "execute_result"
    }
   ],
   "source": [
    "checkLogin(user1)\n",
    "checkLogin(user2)\n",
    "checkLogin(user3)"
   ]
  }
 ],
 "metadata": {
  "kernelspec": {
   "display_name": "spylon-kernel",
   "language": "scala",
   "name": "spylon-kernel"
  },
  "language_info": {
   "codemirror_mode": "text/x-scala",
   "file_extension": ".scala",
   "help_links": [
    {
     "text": "MetaKernel Magics",
     "url": "https://metakernel.readthedocs.io/en/latest/source/README.html"
    }
   ],
   "mimetype": "text/x-scala",
   "name": "scala",
   "pygments_lexer": "scala",
   "version": "0.4.1"
  }
 },
 "nbformat": 4,
 "nbformat_minor": 5
}
