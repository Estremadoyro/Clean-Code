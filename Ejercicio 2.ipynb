{
 "cells": [
  {
   "cell_type": "markdown",
   "id": "desirable-riverside",
   "metadata": {},
   "source": [
    "#### Ejercicio 2"
   ]
  },
  {
   "cell_type": "code",
   "execution_count": 1,
   "id": "great-ferry",
   "metadata": {},
   "outputs": [
    {
     "data": {
      "text/plain": [
       "Intitializing Scala interpreter ..."
      ]
     },
     "metadata": {},
     "output_type": "display_data"
    },
    {
     "data": {
      "text/plain": [
       "Spark Web UI available at http://192.168.1.33:4040\n",
       "SparkContext available as 'sc' (version = 3.1.1, master = local[*], app id = local-1616621481933)\n",
       "SparkSession available as 'spark'\n"
      ]
     },
     "metadata": {},
     "output_type": "display_data"
    },
    {
     "data": {
      "text/plain": [
       "import org.apache.spark.sql.DataFrame\n",
       "import org.apache.spark.util.SizeEstimator\n",
       "import org.apache.spark.sql.functions.desc\n"
      ]
     },
     "execution_count": 1,
     "metadata": {},
     "output_type": "execute_result"
    }
   ],
   "source": [
    "import org.apache.spark.sql.DataFrame;\n",
    "import org.apache.spark.util.SizeEstimator;\n",
    "import org.apache.spark.sql.functions.desc;"
   ]
  },
  {
   "cell_type": "code",
   "execution_count": 4,
   "id": "neither-gnome",
   "metadata": {},
   "outputs": [
    {
     "data": {
      "text/plain": [
       "DataScheme: org.apache.spark.sql.DataFrame = [campaign_start_date: date, personal_type: string ... 4 more fields]\n"
      ]
     },
     "execution_count": 4,
     "metadata": {},
     "output_type": "execute_result"
    }
   ],
   "source": [
    "val DataScheme: DataFrame = spark.read.parquet(\"processed\");"
   ]
  },
  {
   "cell_type": "code",
   "execution_count": 6,
   "id": "adult-saver",
   "metadata": {},
   "outputs": [
    {
     "data": {
      "text/plain": [
       "defined class EvaluateDataFrame\n"
      ]
     },
     "execution_count": 6,
     "metadata": {},
     "output_type": "execute_result"
    }
   ],
   "source": [
    "class EvaluateDataFrame (val dataScheme: DataFrame,\n",
    "                         val PrmSparkStatsLevel: Int,\n",
    "                         val sparkPartitionId: String) {\n",
    "    val dfPartitions = dataScheme.rdd.getNumPartitions\n",
    "    require(PrmSparkStatsLevel > 0, \"\"\"Spark level must be\n",
    "    greater than 0\"\"\")\n",
    "}"
   ]
  },
  {
   "cell_type": "code",
   "execution_count": 92,
   "id": "professional-associate",
   "metadata": {},
   "outputs": [
    {
     "data": {
      "text/plain": [
       "defined trait PrmLevel1\n"
      ]
     },
     "execution_count": 92,
     "metadata": {},
     "output_type": "execute_result"
    }
   ],
   "source": [
    "//Main super trait\n",
    "trait PrmLevel1 {\n",
    "    def toMb (num: Float): Float = num / 1024.toFloat / 1024.toFloat\n",
    "    def dfStats(df: EvaluateDataFrame) = {\n",
    "        val dfSizeByte: BigInt = df.dataScheme.queryExecution.optimizedPlan.stats.sizeInBytes\n",
    "        val dfSizeMb: Float = toMb(dfSizeByte.toFloat)\n",
    "        val dfSizeEstimatorMb: Float = toMb(SizeEstimator.estimate(df.dataScheme))\n",
    "        println(\"*** STATS *** Df Stats PlanSizeMB:\"+dfSizeMb+\",  EstimatorSizeMB:\"\n",
    "                +dfSizeEstimatorMb+\", PartitionNum: \"+df.dfPartitions+\", PartitionSizeMB:\"\n",
    "                +dfSizeMb / df.dfPartitions+\", PartitionSizeMB:\"+dfSizeEstimatorMb / df.dfPartitions)\n",
    "    }\n",
    "}"
   ]
  },
  {
   "cell_type": "code",
   "execution_count": 99,
   "id": "prime-morrison",
   "metadata": {},
   "outputs": [
    {
     "data": {
      "text/plain": [
       "defined trait PrmLevel2\n"
      ]
     },
     "execution_count": 99,
     "metadata": {},
     "output_type": "execute_result"
    }
   ],
   "source": [
    "trait PrmLevel2 extends PrmLevel1 {\n",
    "    override def dfStats(df: EvaluateDataFrame) = {\n",
    "        super.dfStats(df);\n",
    "        println(s\"\"\"*** STATS *** Df Partition record \n",
    "        count ${df.dataScheme.count()}\"\"\");\n",
    "    }\n",
    "}"
   ]
  },
  {
   "cell_type": "code",
   "execution_count": 15,
   "id": "listed-equality",
   "metadata": {},
   "outputs": [
    {
     "data": {
      "text/plain": [
       "defined trait PrmLevel3\n"
      ]
     },
     "execution_count": 15,
     "metadata": {},
     "output_type": "execute_result"
    }
   ],
   "source": [
    "trait PrmLevel3 extends PrmLevel1 {\n",
    "    override def dfStats(df: EvaluateDataFrame) = {\n",
    "        super.dfStats(df);\n",
    "        println(s\"*** STATS *** Df Partition Info\");\n",
    "        df.dataScheme\n",
    "          .groupBy(df.sparkPartitionId)\n",
    "          .count()\n",
    "          .orderBy(desc(\"count\"))\n",
    "          .show(if (df.dfPartitions>0) df.dfPartitions else 200);\n",
    "    }\n",
    "}"
   ]
  },
  {
   "cell_type": "code",
   "execution_count": 17,
   "id": "several-logic",
   "metadata": {},
   "outputs": [
    {
     "data": {
      "text/plain": [
       "defined trait PrmLevel8\n"
      ]
     },
     "execution_count": 17,
     "metadata": {},
     "output_type": "execute_result"
    }
   ],
   "source": [
    "trait PrmLevel8 extends PrmLevel1 {\n",
    "    override def dfStats(df: EvaluateDataFrame) = {\n",
    "        super.dfStats(df);\n",
    "        println(s\"*** STATS *** Show data:\")\n",
    "        df.dataScheme.show() \n",
    "    }\n",
    "}"
   ]
  },
  {
   "cell_type": "code",
   "execution_count": 84,
   "id": "returning-blanket",
   "metadata": {},
   "outputs": [
    {
     "data": {
      "text/plain": [
       "defined class PrmSparkStatsLevel1\n"
      ]
     },
     "execution_count": 84,
     "metadata": {},
     "output_type": "execute_result"
    }
   ],
   "source": [
    "class PrmSparkStatsLevel1 (val df: EvaluateDataFrame) extends PrmLevel1 {\n",
    "    super.dfStats(df)\n",
    "}"
   ]
  },
  {
   "cell_type": "code",
   "execution_count": 57,
   "id": "opening-steps",
   "metadata": {},
   "outputs": [
    {
     "data": {
      "text/plain": [
       "defined class PrmSparkStatsLevel2\n"
      ]
     },
     "execution_count": 57,
     "metadata": {},
     "output_type": "execute_result"
    }
   ],
   "source": [
    "class PrmSparkStatsLevel2 (val df: EvaluateDataFrame) extends PrmLevel2 {\n",
    "    super.dfStats(df)\n",
    "}"
   ]
  },
  {
   "cell_type": "code",
   "execution_count": 58,
   "id": "prime-clock",
   "metadata": {},
   "outputs": [
    {
     "data": {
      "text/plain": [
       "defined class PrmSparkStatsLevel3\n"
      ]
     },
     "execution_count": 58,
     "metadata": {},
     "output_type": "execute_result"
    }
   ],
   "source": [
    "class PrmSparkStatsLevel3 (val df: EvaluateDataFrame) extends PrmLevel3 {\n",
    "    super.dfStats(df)\n",
    "}"
   ]
  },
  {
   "cell_type": "code",
   "execution_count": 61,
   "id": "thrown-trial",
   "metadata": {},
   "outputs": [
    {
     "data": {
      "text/plain": [
       "defined class PrmSparkStatsLevel4\n"
      ]
     },
     "execution_count": 61,
     "metadata": {},
     "output_type": "execute_result"
    }
   ],
   "source": [
    "class PrmSparkStatsLevel4 (val df: EvaluateDataFrame) extends PrmLevel2 with PrmLevel3 {\n",
    "    super.dfStats(df)\n",
    "}"
   ]
  },
  {
   "cell_type": "code",
   "execution_count": 59,
   "id": "handy-genius",
   "metadata": {},
   "outputs": [
    {
     "data": {
      "text/plain": [
       "defined class PrmSparkStatsLevel8\n"
      ]
     },
     "execution_count": 59,
     "metadata": {},
     "output_type": "execute_result"
    }
   ],
   "source": [
    "class PrmSparkStatsLevel8 (val df: EvaluateDataFrame) extends PrmLevel8 {\n",
    "    super.dfStats(df)\n",
    "}"
   ]
  },
  {
   "cell_type": "code",
   "execution_count": 101,
   "id": "persistent-defense",
   "metadata": {},
   "outputs": [
    {
     "data": {
      "text/plain": [
       "df1: EvaluateDataFrame = EvaluateDataFrame@46c777eb\n",
       "df2: EvaluateDataFrame = EvaluateDataFrame@5103f8dd\n",
       "df3: EvaluateDataFrame = EvaluateDataFrame@1d372d21\n",
       "df4: EvaluateDataFrame = EvaluateDataFrame@797246d4\n",
       "df8: EvaluateDataFrame = EvaluateDataFrame@4771e3e\n"
      ]
     },
     "execution_count": 101,
     "metadata": {},
     "output_type": "execute_result"
    }
   ],
   "source": [
    "val df1: EvaluateDataFrame = new EvaluateDataFrame(DataScheme, 1, \"cutoff_date\")\n",
    "val df2: EvaluateDataFrame = new EvaluateDataFrame(DataScheme, 2, \"cutoff_date\")\n",
    "val df3: EvaluateDataFrame = new EvaluateDataFrame(DataScheme, 3, \"cutoff_date\")\n",
    "val df4: EvaluateDataFrame = new EvaluateDataFrame(DataScheme, 4, \"cutoff_date\")\n",
    "val df8: EvaluateDataFrame = new EvaluateDataFrame(DataScheme, 8, \"cutoff_date\")"
   ]
  },
  {
   "cell_type": "code",
   "execution_count": 103,
   "id": "chicken-baptist",
   "metadata": {},
   "outputs": [
    {
     "name": "stdout",
     "output_type": "stream",
     "text": [
      "*** STATS *** Df Stats PlanSizeMB:9.864668,  EstimatorSizeMB:9.216484, PartitionNum: 4, PartitionSizeMB:2.466167, PartitionSizeMB:2.304121\n"
     ]
    },
    {
     "data": {
      "text/plain": [
       "prm1: PrmSparkStatsLevel1 = PrmSparkStatsLevel1@274e2fce\n"
      ]
     },
     "execution_count": 103,
     "metadata": {},
     "output_type": "execute_result"
    }
   ],
   "source": [
    "val prm1 = new PrmSparkStatsLevel1(df1)"
   ]
  },
  {
   "cell_type": "code",
   "execution_count": 102,
   "id": "listed-wellington",
   "metadata": {},
   "outputs": [
    {
     "name": "stdout",
     "output_type": "stream",
     "text": [
      "*** STATS *** Df Stats PlanSizeMB:9.864668,  EstimatorSizeMB:9.027351, PartitionNum: 4, PartitionSizeMB:2.466167, PartitionSizeMB:2.2568378\n",
      "*** STATS *** Df Partition record \n",
      "        count 1282382\n"
     ]
    },
    {
     "data": {
      "text/plain": [
       "prm2: PrmSparkStatsLevel2 = PrmSparkStatsLevel2@4b0b506b\n"
      ]
     },
     "execution_count": 102,
     "metadata": {},
     "output_type": "execute_result"
    }
   ],
   "source": [
    "val prm2 = new PrmSparkStatsLevel2(df2)"
   ]
  },
  {
   "cell_type": "code",
   "execution_count": 104,
   "id": "wired-transparency",
   "metadata": {},
   "outputs": [
    {
     "name": "stdout",
     "output_type": "stream",
     "text": [
      "*** STATS *** Df Stats PlanSizeMB:9.864668,  EstimatorSizeMB:20.057, PartitionNum: 4, PartitionSizeMB:2.466167, PartitionSizeMB:5.01425\n",
      "*** STATS *** Df Partition Info\n",
      "+-----------+-------+\n",
      "|cutoff_date|  count|\n",
      "+-----------+-------+\n",
      "| 2020-01-03|1282382|\n",
      "+-----------+-------+\n",
      "\n"
     ]
    },
    {
     "data": {
      "text/plain": [
       "prm3: PrmSparkStatsLevel3 = PrmSparkStatsLevel3@2fed7552\n"
      ]
     },
     "execution_count": 104,
     "metadata": {},
     "output_type": "execute_result"
    }
   ],
   "source": [
    "val prm3 = new PrmSparkStatsLevel3(df3)"
   ]
  },
  {
   "cell_type": "code",
   "execution_count": 105,
   "id": "imposed-monroe",
   "metadata": {},
   "outputs": [
    {
     "name": "stdout",
     "output_type": "stream",
     "text": [
      "*** STATS *** Df Stats PlanSizeMB:9.864668,  EstimatorSizeMB:17.436272, PartitionNum: 4, PartitionSizeMB:2.466167, PartitionSizeMB:4.359068\n",
      "*** STATS *** Df Partition record \n",
      "        count 1282382\n",
      "*** STATS *** Df Partition Info\n",
      "+-----------+-------+\n",
      "|cutoff_date|  count|\n",
      "+-----------+-------+\n",
      "| 2020-01-03|1282382|\n",
      "+-----------+-------+\n",
      "\n"
     ]
    },
    {
     "data": {
      "text/plain": [
       "prm4: PrmSparkStatsLevel4 = PrmSparkStatsLevel4@12eb4e22\n"
      ]
     },
     "execution_count": 105,
     "metadata": {},
     "output_type": "execute_result"
    }
   ],
   "source": [
    "val prm4 = new PrmSparkStatsLevel4(df4)"
   ]
  },
  {
   "cell_type": "code",
   "execution_count": 106,
   "id": "authentic-edition",
   "metadata": {},
   "outputs": [
    {
     "name": "stdout",
     "output_type": "stream",
     "text": [
      "*** STATS *** Df Stats PlanSizeMB:9.864668,  EstimatorSizeMB:17.10936, PartitionNum: 4, PartitionSizeMB:2.466167, PartitionSizeMB:4.27734\n",
      "*** STATS *** Show data:\n",
      "+-------------------+-------------+-----------+------------------+--------------------+-----------+\n",
      "|campaign_start_date|personal_type|personal_id|      segment_desc|   audtiminsert_date|cutoff_date|\n",
      "+-------------------+-------------+-----------+------------------+--------------------+-----------+\n",
      "|         2019-09-30|            L|   00081633|  08. Bajo ingreso|2019-11-07 19:12:...| 2020-01-03|\n",
      "|         2019-09-30|            L|   00950462|  08. Bajo ingreso|2019-11-07 19:12:...| 2020-01-03|\n",
      "|         2019-09-30|            L|   02446085|              None|2019-11-07 19:12:...| 2020-01-03|\n",
      "|         2019-09-30|            L|   06674137|              None|2019-11-07 19:12:...| 2020-01-03|\n",
      "|         2019-09-30|            L|   06694902|              None|2019-11-07 19:12:...| 2020-01-03|\n",
      "|         2019-09-30|            L|   07247000|              None|2019-11-07 19:12:...| 2020-01-03|\n",
      "|         2019-09-30|            L|   07699179|              None|2019-11-07 19:12:...| 2020-01-03|\n",
      "|         2019-09-30|            L|   08464270|              None|2019-11-07 19:12:...| 2020-01-03|\n",
      "|         2019-09-30|            L|   16769553|              None|2019-11-07 19:12:...| 2020-01-03|\n",
      "|         2019-09-30|            L|   17804824|              None|2019-11-07 19:12:...| 2020-01-03|\n",
      "|         2019-09-30|            L|   20709077|11. IND - NO SUNAT|2019-11-07 19:12:...| 2020-01-03|\n",
      "|         2019-09-30|            L|   21564496|              None|2019-11-07 19:12:...| 2020-01-03|\n",
      "|         2019-09-30|            L|   25809138|11. IND - NO SUNAT|2019-11-07 19:12:...| 2020-01-03|\n",
      "|         2019-09-30|            L|   29204932|              None|2019-11-07 19:12:...| 2020-01-03|\n",
      "|         2019-09-30|            L|   29416368|              None|2019-11-07 19:12:...| 2020-01-03|\n",
      "|         2019-09-30|            L|   40150611|              None|2019-11-07 19:12:...| 2020-01-03|\n",
      "|         2019-09-30|            L|   40169609|              None|2019-11-07 19:12:...| 2020-01-03|\n",
      "|         2019-09-30|            L|   41051997|              None|2019-11-07 19:12:...| 2020-01-03|\n",
      "|         2019-09-30|            L|   41630769|              None|2019-11-07 19:12:...| 2020-01-03|\n",
      "|         2019-09-30|            L|   43192411|11. IND - NO SUNAT|2019-11-07 19:12:...| 2020-01-03|\n",
      "+-------------------+-------------+-----------+------------------+--------------------+-----------+\n",
      "only showing top 20 rows\n",
      "\n"
     ]
    },
    {
     "data": {
      "text/plain": [
       "prm8: PrmSparkStatsLevel8 = PrmSparkStatsLevel8@76cbd63b\n"
      ]
     },
     "execution_count": 106,
     "metadata": {},
     "output_type": "execute_result"
    }
   ],
   "source": [
    "val prm8 = new PrmSparkStatsLevel8(df8)"
   ]
  }
 ],
 "metadata": {
  "kernelspec": {
   "display_name": "spylon-kernel",
   "language": "scala",
   "name": "spylon-kernel"
  },
  "language_info": {
   "codemirror_mode": "text/x-scala",
   "file_extension": ".scala",
   "help_links": [
    {
     "text": "MetaKernel Magics",
     "url": "https://metakernel.readthedocs.io/en/latest/source/README.html"
    }
   ],
   "mimetype": "text/x-scala",
   "name": "scala",
   "pygments_lexer": "scala",
   "version": "0.4.1"
  }
 },
 "nbformat": 4,
 "nbformat_minor": 5
}
