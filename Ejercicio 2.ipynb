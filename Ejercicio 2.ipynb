{
 "cells": [
  {
   "cell_type": "markdown",
   "id": "desirable-riverside",
   "metadata": {},
   "source": [
    "#### Ejercicio 2"
   ]
  },
  {
   "cell_type": "code",
   "execution_count": 15,
   "id": "great-ferry",
   "metadata": {},
   "outputs": [
    {
     "data": {
      "text/plain": [
       "import org.apache.spark.sql.DataFrame\n",
       "import org.apache.spark.util.SizeEstimator\n",
       "import org.apache.spark.sql.functions.desc\n"
      ]
     },
     "execution_count": 15,
     "metadata": {},
     "output_type": "execute_result"
    }
   ],
   "source": [
    "import org.apache.spark.sql.DataFrame;\n",
    "import org.apache.spark.util.SizeEstimator;\n",
    "import org.apache.spark.sql.functions.desc;"
   ]
  },
  {
   "cell_type": "code",
   "execution_count": 17,
   "id": "neither-gnome",
   "metadata": {},
   "outputs": [
    {
     "data": {
      "text/plain": [
       "DataScheme: org.apache.spark.sql.DataFrame = [campaign_start_date: date, personal_type: string ... 4 more fields]\n"
      ]
     },
     "execution_count": 17,
     "metadata": {},
     "output_type": "execute_result"
    }
   ],
   "source": [
    "val DataScheme: DataFrame = spark.read.parquet(\"processed\");"
   ]
  },
  {
   "cell_type": "code",
   "execution_count": 18,
   "id": "adult-saver",
   "metadata": {},
   "outputs": [
    {
     "data": {
      "text/plain": [
       "defined class EvaluateDataFrame\n"
      ]
     },
     "execution_count": 18,
     "metadata": {},
     "output_type": "execute_result"
    }
   ],
   "source": [
    "class EvaluateDataFrame (val dataScheme: DataFrame,\n",
    "                         val PrmSparkStatsLevel: Int,\n",
    "                         val sparkPartitionId: String) {\n",
    "    val partitions = dataScheme.rdd.getNumPartitions\n",
    "    require(PrmSparkStatsLevel > 0, \"\"\"Spark level must be\n",
    "    greater than 0\"\"\")\n",
    "}"
   ]
  },
  {
   "cell_type": "code",
   "execution_count": 19,
   "id": "generous-contrast",
   "metadata": {},
   "outputs": [
    {
     "data": {
      "text/plain": [
       "defined class DataframeSize\n"
      ]
     },
     "execution_count": 19,
     "metadata": {},
     "output_type": "execute_result"
    }
   ],
   "source": [
    "class DataframeSize(val df: DataFrame) {\n",
    "    def toBytes(): BigInt = {\n",
    "        df.queryExecution.optimizedPlan.stats.sizeInBytes\n",
    "    }\n",
    "    def toMb(size: Float): Float = {\n",
    "        size.toFloat / 1024.toFloat / 1024.toFloat\n",
    "    }\n",
    "    def toEstimatorMb(): Float = {\n",
    "        toMb(SizeEstimator.estimate(df))\n",
    "    }\n",
    "}"
   ]
  },
  {
   "cell_type": "code",
   "execution_count": 48,
   "id": "professional-associate",
   "metadata": {},
   "outputs": [
    {
     "data": {
      "text/plain": [
       "defined trait PrmLevel1\n"
      ]
     },
     "execution_count": 48,
     "metadata": {},
     "output_type": "execute_result"
    }
   ],
   "source": [
    "trait PrmLevel1 {\n",
    "    def dfStats(df: EvaluateDataFrame) = {\n",
    "        val dfSize = new DataframeSize(df.dataScheme: DataFrame)\n",
    "        \n",
    "        val sizeBytes: BigInt = dfSize.toBytes()\n",
    "        val sizeMb: Float = dfSize.toMb(sizeBytes.toFloat)\n",
    "        val sizeEstimatorMb: Float = dfSize.toEstimatorMb()\n",
    "        \n",
    "        println(\"*** STATS *** Df Stats PlanSizeMB:\"+sizeMb+\n",
    "                \",  EstimatorSizeMB:\"+sizeEstimatorMb+\n",
    "                \", PartitionNum: \"+df.partitions+\n",
    "                \", PartitionSizeMB:\"+sizeMb / df.partitions+\n",
    "                \", PartitionSizeMB:\"+sizeEstimatorMb / df.partitions)\n",
    "    }\n",
    "}"
   ]
  },
  {
   "cell_type": "code",
   "execution_count": 38,
   "id": "prime-morrison",
   "metadata": {},
   "outputs": [
    {
     "data": {
      "text/plain": [
       "defined trait PrmLevel2\n"
      ]
     },
     "execution_count": 38,
     "metadata": {},
     "output_type": "execute_result"
    }
   ],
   "source": [
    "trait PrmLevel2 extends PrmLevel1 {\n",
    "    override def dfStats(df: EvaluateDataFrame) = {\n",
    "        super.dfStats(df);\n",
    "        println(s\"\"\"*** STATS *** Df Partition record \n",
    "        count ${df.dataScheme.count()}\"\"\");\n",
    "    }\n",
    "}"
   ]
  },
  {
   "cell_type": "code",
   "execution_count": 39,
   "id": "listed-equality",
   "metadata": {},
   "outputs": [
    {
     "data": {
      "text/plain": [
       "defined trait PrmLevel3\n"
      ]
     },
     "execution_count": 39,
     "metadata": {},
     "output_type": "execute_result"
    }
   ],
   "source": [
    "trait PrmLevel3 extends PrmLevel1 {\n",
    "    override def dfStats(df: EvaluateDataFrame) = {\n",
    "        super.dfStats(df);\n",
    "        println(s\"*** STATS *** Df Partition Info\");\n",
    "        df.dataScheme\n",
    "          .groupBy(df.sparkPartitionId)\n",
    "          .count()\n",
    "          .orderBy(desc(\"count\"))\n",
    "          .show(if (df.partitions>0) df.partitions else 200);\n",
    "    }\n",
    "}"
   ]
  },
  {
   "cell_type": "code",
   "execution_count": 40,
   "id": "several-logic",
   "metadata": {},
   "outputs": [
    {
     "data": {
      "text/plain": [
       "defined trait PrmLevel8\n"
      ]
     },
     "execution_count": 40,
     "metadata": {},
     "output_type": "execute_result"
    }
   ],
   "source": [
    "trait PrmLevel8 extends PrmLevel1 {\n",
    "    override def dfStats(df: EvaluateDataFrame) = {\n",
    "        super.dfStats(df);\n",
    "        println(s\"*** STATS *** Show data:\")\n",
    "        df.dataScheme.show() \n",
    "    }\n",
    "}"
   ]
  },
  {
   "cell_type": "code",
   "execution_count": 41,
   "id": "returning-blanket",
   "metadata": {},
   "outputs": [
    {
     "data": {
      "text/plain": [
       "defined class PrmSparkStatsLevel1\n"
      ]
     },
     "execution_count": 41,
     "metadata": {},
     "output_type": "execute_result"
    }
   ],
   "source": [
    "class PrmSparkStatsLevel1 (val df: EvaluateDataFrame) extends PrmLevel1 {\n",
    "    super.dfStats(df)\n",
    "}"
   ]
  },
  {
   "cell_type": "code",
   "execution_count": 42,
   "id": "opening-steps",
   "metadata": {},
   "outputs": [
    {
     "data": {
      "text/plain": [
       "defined class PrmSparkStatsLevel2\n"
      ]
     },
     "execution_count": 42,
     "metadata": {},
     "output_type": "execute_result"
    }
   ],
   "source": [
    "class PrmSparkStatsLevel2 (val df: EvaluateDataFrame) extends PrmLevel2 {\n",
    "    super.dfStats(df)\n",
    "}"
   ]
  },
  {
   "cell_type": "code",
   "execution_count": 43,
   "id": "prime-clock",
   "metadata": {},
   "outputs": [
    {
     "data": {
      "text/plain": [
       "defined class PrmSparkStatsLevel3\n"
      ]
     },
     "execution_count": 43,
     "metadata": {},
     "output_type": "execute_result"
    }
   ],
   "source": [
    "class PrmSparkStatsLevel3 (val df: EvaluateDataFrame) extends PrmLevel3 {\n",
    "    super.dfStats(df)\n",
    "}"
   ]
  },
  {
   "cell_type": "code",
   "execution_count": 44,
   "id": "thrown-trial",
   "metadata": {},
   "outputs": [
    {
     "data": {
      "text/plain": [
       "defined class PrmSparkStatsLevel4\n"
      ]
     },
     "execution_count": 44,
     "metadata": {},
     "output_type": "execute_result"
    }
   ],
   "source": [
    "class PrmSparkStatsLevel4 (val df: EvaluateDataFrame) extends PrmLevel2 with PrmLevel3 {\n",
    "    super.dfStats(df)\n",
    "}"
   ]
  },
  {
   "cell_type": "code",
   "execution_count": 45,
   "id": "handy-genius",
   "metadata": {},
   "outputs": [
    {
     "data": {
      "text/plain": [
       "defined class PrmSparkStatsLevel8\n"
      ]
     },
     "execution_count": 45,
     "metadata": {},
     "output_type": "execute_result"
    }
   ],
   "source": [
    "class PrmSparkStatsLevel8 (val df: EvaluateDataFrame) extends PrmLevel8 {\n",
    "    super.dfStats(df)\n",
    "}"
   ]
  },
  {
   "cell_type": "code",
   "execution_count": 46,
   "id": "persistent-defense",
   "metadata": {},
   "outputs": [
    {
     "data": {
      "text/plain": [
       "df1: EvaluateDataFrame = EvaluateDataFrame@2e709b5c\n",
       "df2: EvaluateDataFrame = EvaluateDataFrame@384a33c2\n",
       "df3: EvaluateDataFrame = EvaluateDataFrame@7c1c7a50\n",
       "df4: EvaluateDataFrame = EvaluateDataFrame@68a1a34e\n",
       "df8: EvaluateDataFrame = EvaluateDataFrame@42217f7d\n"
      ]
     },
     "execution_count": 46,
     "metadata": {},
     "output_type": "execute_result"
    }
   ],
   "source": [
    "val df1: EvaluateDataFrame = new EvaluateDataFrame(DataScheme, 1, \"cutoff_date\")\n",
    "val df2: EvaluateDataFrame = new EvaluateDataFrame(DataScheme, 2, \"cutoff_date\")\n",
    "val df3: EvaluateDataFrame = new EvaluateDataFrame(DataScheme, 3, \"cutoff_date\")\n",
    "val df4: EvaluateDataFrame = new EvaluateDataFrame(DataScheme, 4, \"cutoff_date\")\n",
    "val df8: EvaluateDataFrame = new EvaluateDataFrame(DataScheme, 8, \"cutoff_date\")"
   ]
  },
  {
   "cell_type": "code",
   "execution_count": 47,
   "id": "chicken-baptist",
   "metadata": {},
   "outputs": [
    {
     "name": "stdout",
     "output_type": "stream",
     "text": [
      "*** STATS *** Df Stats PlanSizeMB:9.864668,  EstimatorSizeMB:6.7497177, PartitionNum: 4, PartitionSizeMB:2.466167, PartitionSizeMB:1.6874294\n"
     ]
    },
    {
     "data": {
      "text/plain": [
       "prm1: PrmSparkStatsLevel1 = PrmSparkStatsLevel1@3797998b\n"
      ]
     },
     "execution_count": 47,
     "metadata": {},
     "output_type": "execute_result"
    }
   ],
   "source": [
    "val prm1 = new PrmSparkStatsLevel1(df1)"
   ]
  },
  {
   "cell_type": "code",
   "execution_count": 32,
   "id": "listed-wellington",
   "metadata": {},
   "outputs": [
    {
     "name": "stdout",
     "output_type": "stream",
     "text": [
      "*** STATS *** Df Stats PlanSizeMB:9.864668,  EstimatorSizeMB:5.6124496, PartitionNum: 4, PartitionSizeMB:2.466167, PartitionSizeMB:1.4031124\n",
      "*** STATS *** Df Partition record \n",
      "        count 1282382\n"
     ]
    },
    {
     "data": {
      "text/plain": [
       "prm2: PrmSparkStatsLevel2 = PrmSparkStatsLevel2@4b177946\n"
      ]
     },
     "execution_count": 32,
     "metadata": {},
     "output_type": "execute_result"
    }
   ],
   "source": [
    "val prm2 = new PrmSparkStatsLevel2(df2)"
   ]
  },
  {
   "cell_type": "code",
   "execution_count": 33,
   "id": "wired-transparency",
   "metadata": {},
   "outputs": [
    {
     "name": "stdout",
     "output_type": "stream",
     "text": [
      "*** STATS *** Df Stats PlanSizeMB:9.864668,  EstimatorSizeMB:5.862381, PartitionNum: 4, PartitionSizeMB:2.466167, PartitionSizeMB:1.4655952\n",
      "*** STATS *** Df Partition Info\n",
      "+-----------+-------+\n",
      "|cutoff_date|  count|\n",
      "+-----------+-------+\n",
      "| 2020-01-03|1282382|\n",
      "+-----------+-------+\n",
      "\n"
     ]
    },
    {
     "data": {
      "text/plain": [
       "prm3: PrmSparkStatsLevel3 = PrmSparkStatsLevel3@7bd95552\n"
      ]
     },
     "execution_count": 33,
     "metadata": {},
     "output_type": "execute_result"
    }
   ],
   "source": [
    "val prm3 = new PrmSparkStatsLevel3(df3)"
   ]
  },
  {
   "cell_type": "code",
   "execution_count": 34,
   "id": "imposed-monroe",
   "metadata": {},
   "outputs": [
    {
     "name": "stdout",
     "output_type": "stream",
     "text": [
      "*** STATS *** Df Stats PlanSizeMB:9.864668,  EstimatorSizeMB:14.640945, PartitionNum: 4, PartitionSizeMB:2.466167, PartitionSizeMB:3.6602364\n",
      "*** STATS *** Df Partition record \n",
      "        count 1282382\n",
      "*** STATS *** Df Partition Info\n",
      "+-----------+-------+\n",
      "|cutoff_date|  count|\n",
      "+-----------+-------+\n",
      "| 2020-01-03|1282382|\n",
      "+-----------+-------+\n",
      "\n"
     ]
    },
    {
     "data": {
      "text/plain": [
       "prm4: PrmSparkStatsLevel4 = PrmSparkStatsLevel4@1da89bb1\n"
      ]
     },
     "execution_count": 34,
     "metadata": {},
     "output_type": "execute_result"
    }
   ],
   "source": [
    "val prm4 = new PrmSparkStatsLevel4(df4)"
   ]
  },
  {
   "cell_type": "code",
   "execution_count": 49,
   "id": "authentic-edition",
   "metadata": {},
   "outputs": [
    {
     "name": "stdout",
     "output_type": "stream",
     "text": [
      "*** STATS *** Df Stats PlanSizeMB:9.864668,  EstimatorSizeMB:6.7582855, PartitionNum: 4, PartitionSizeMB:2.466167, PartitionSizeMB:1.6895714\n",
      "*** STATS *** Show data:\n",
      "+-------------------+-------------+-----------+------------------+--------------------+-----------+\n",
      "|campaign_start_date|personal_type|personal_id|      segment_desc|   audtiminsert_date|cutoff_date|\n",
      "+-------------------+-------------+-----------+------------------+--------------------+-----------+\n",
      "|         2019-09-30|            L|   00081633|  08. Bajo ingreso|2019-11-07 19:12:...| 2020-01-03|\n",
      "|         2019-09-30|            L|   00950462|  08. Bajo ingreso|2019-11-07 19:12:...| 2020-01-03|\n",
      "|         2019-09-30|            L|   02446085|              None|2019-11-07 19:12:...| 2020-01-03|\n",
      "|         2019-09-30|            L|   06674137|              None|2019-11-07 19:12:...| 2020-01-03|\n",
      "|         2019-09-30|            L|   06694902|              None|2019-11-07 19:12:...| 2020-01-03|\n",
      "|         2019-09-30|            L|   07247000|              None|2019-11-07 19:12:...| 2020-01-03|\n",
      "|         2019-09-30|            L|   07699179|              None|2019-11-07 19:12:...| 2020-01-03|\n",
      "|         2019-09-30|            L|   08464270|              None|2019-11-07 19:12:...| 2020-01-03|\n",
      "|         2019-09-30|            L|   16769553|              None|2019-11-07 19:12:...| 2020-01-03|\n",
      "|         2019-09-30|            L|   17804824|              None|2019-11-07 19:12:...| 2020-01-03|\n",
      "|         2019-09-30|            L|   20709077|11. IND - NO SUNAT|2019-11-07 19:12:...| 2020-01-03|\n",
      "|         2019-09-30|            L|   21564496|              None|2019-11-07 19:12:...| 2020-01-03|\n",
      "|         2019-09-30|            L|   25809138|11. IND - NO SUNAT|2019-11-07 19:12:...| 2020-01-03|\n",
      "|         2019-09-30|            L|   29204932|              None|2019-11-07 19:12:...| 2020-01-03|\n",
      "|         2019-09-30|            L|   29416368|              None|2019-11-07 19:12:...| 2020-01-03|\n",
      "|         2019-09-30|            L|   40150611|              None|2019-11-07 19:12:...| 2020-01-03|\n",
      "|         2019-09-30|            L|   40169609|              None|2019-11-07 19:12:...| 2020-01-03|\n",
      "|         2019-09-30|            L|   41051997|              None|2019-11-07 19:12:...| 2020-01-03|\n",
      "|         2019-09-30|            L|   41630769|              None|2019-11-07 19:12:...| 2020-01-03|\n",
      "|         2019-09-30|            L|   43192411|11. IND - NO SUNAT|2019-11-07 19:12:...| 2020-01-03|\n",
      "+-------------------+-------------+-----------+------------------+--------------------+-----------+\n",
      "only showing top 20 rows\n",
      "\n"
     ]
    },
    {
     "data": {
      "text/plain": [
       "prm8: PrmSparkStatsLevel8 = PrmSparkStatsLevel8@2f8aac37\n"
      ]
     },
     "execution_count": 49,
     "metadata": {},
     "output_type": "execute_result"
    }
   ],
   "source": [
    "val prm8 = new PrmSparkStatsLevel8(df8)"
   ]
  }
 ],
 "metadata": {
  "kernelspec": {
   "display_name": "spylon-kernel",
   "language": "scala",
   "name": "spylon-kernel"
  },
  "language_info": {
   "codemirror_mode": "text/x-scala",
   "file_extension": ".scala",
   "help_links": [
    {
     "text": "MetaKernel Magics",
     "url": "https://metakernel.readthedocs.io/en/latest/source/README.html"
    }
   ],
   "mimetype": "text/x-scala",
   "name": "scala",
   "pygments_lexer": "scala",
   "version": "0.4.1"
  }
 },
 "nbformat": 4,
 "nbformat_minor": 5
}
