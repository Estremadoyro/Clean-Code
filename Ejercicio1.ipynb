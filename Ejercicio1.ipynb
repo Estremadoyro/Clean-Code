{
 "cells": [
  {
   "cell_type": "markdown",
   "id": "proper-marking",
   "metadata": {},
   "source": [
    "#### Ejercicio 1"
   ]
  },
  {
   "cell_type": "code",
   "execution_count": 5,
   "id": "simplified-booking",
   "metadata": {},
   "outputs": [
    {
     "data": {
      "text/plain": [
       "defined object Repository\n"
      ]
     },
     "execution_count": 5,
     "metadata": {},
     "output_type": "execute_result"
    }
   ],
   "source": [
    "//Clean Code\n",
    "object Repository {\n",
    "    def getUser(userName: String): String = userName.split(\"@\")(0)\n",
    "    def loginUser(userName: String, userPassword: String): Boolean = {\n",
    "        userName == \"awainer\" && userPassword == \"123\"\n",
    "    }\n",
    "}"
   ]
  },
  {
   "cell_type": "code",
   "execution_count": 6,
   "id": "stuck-processor",
   "metadata": {},
   "outputs": [
    {
     "data": {
      "text/plain": [
       "defined class User\n"
      ]
     },
     "execution_count": 6,
     "metadata": {},
     "output_type": "execute_result"
    }
   ],
   "source": [
    "//Clean Code\n",
    "class User(val userName: String, val userPassword: String) {\n",
    "    require(userName != null, \"User name must not be empty\")\n",
    "    require(userPassword != null && userPassword != \"\", \n",
    "            \"User password must not be null\")\n",
    "}"
   ]
  },
  {
   "cell_type": "code",
   "execution_count": 11,
   "id": "union-julian",
   "metadata": {},
   "outputs": [
    {
     "data": {
      "text/plain": [
       "defined object Login\n"
      ]
     },
     "execution_count": 11,
     "metadata": {},
     "output_type": "execute_result"
    }
   ],
   "source": [
    "//Clean Code\n",
    "object Login {\n",
    "    def checkLogin(user: User): Boolean = {\n",
    "        val userParsed = Repository.getUser(user.userName)\n",
    "        val userVerified = Repository.loginUser(userParsed, user.userPassword)\n",
    "    \n",
    "        if (userVerified) {\n",
    "            println(\"Login successful\"); return true \n",
    "        }\n",
    "        println(\"Invalid username or password\"); false\n",
    "    }\n",
    "}"
   ]
  },
  {
   "cell_type": "code",
   "execution_count": 8,
   "id": "valuable-rochester",
   "metadata": {},
   "outputs": [
    {
     "data": {
      "text/plain": [
       "user1: User = User@666b73e9\n",
       "user2: User = User@2bc474a4\n",
       "user3: User = User@1688df4a\n"
      ]
     },
     "execution_count": 8,
     "metadata": {},
     "output_type": "execute_result"
    }
   ],
   "source": [
    "val user1 = new User(\"awainer@demo.com\", \"1234\")\n",
    "val user2 = new User(\"\", \"123\")\n",
    "val user3 = new User(\"awainer@demo.com\", \"123\")"
   ]
  },
  {
   "cell_type": "code",
   "execution_count": 9,
   "id": "crazy-population",
   "metadata": {},
   "outputs": [
    {
     "name": "stdout",
     "output_type": "stream",
     "text": [
      "Invalid username or password\n",
      "Invalid username or password\n",
      "Login successful\n"
     ]
    },
    {
     "data": {
      "text/plain": [
       "res0: Boolean = true\n"
      ]
     },
     "execution_count": 9,
     "metadata": {},
     "output_type": "execute_result"
    }
   ],
   "source": [
    "Login.checkLogin(user1)\n",
    "Login.checkLogin(user2)\n",
    "Login.checkLogin(user3)"
   ]
  },
  {
   "cell_type": "code",
   "execution_count": 16,
   "id": "modular-fountain",
   "metadata": {},
   "outputs": [
    {
     "ename": "<console>",
     "evalue": "26: error: value %% is not a member of String",
     "output_type": "error",
     "traceback": [
      "<console>:26: error: value %% is not a member of String",
      "       \"org.scalacheck\" %% \"scalacheck\" % \"1.10.0\"",
      "                        ^",
      ""
     ]
    }
   ],
   "source": [
    "\"org.scalacheck\" %% \"scalacheck\" % \"1.10.0\""
   ]
  },
  {
   "cell_type": "code",
   "execution_count": 15,
   "id": "reserved-attendance",
   "metadata": {},
   "outputs": [
    {
     "ename": "<console>",
     "evalue": "25: error: object scalacheck is not a member of package org",
     "output_type": "error",
     "traceback": [
      "<console>:25: error: object scalacheck is not a member of package org",
      "       import org.scalacheck.Properties",
      "                  ^",
      ""
     ]
    }
   ],
   "source": [
    "//Testing\n",
    "import org.scalacheck.Properties"
   ]
  },
  {
   "cell_type": "code",
   "execution_count": null,
   "id": "incomplete-oxford",
   "metadata": {},
   "outputs": [],
   "source": []
  }
 ],
 "metadata": {
  "kernelspec": {
   "display_name": "spylon-kernel",
   "language": "scala",
   "name": "spylon-kernel"
  },
  "language_info": {
   "codemirror_mode": "text/x-scala",
   "file_extension": ".scala",
   "help_links": [
    {
     "text": "MetaKernel Magics",
     "url": "https://metakernel.readthedocs.io/en/latest/source/README.html"
    }
   ],
   "mimetype": "text/x-scala",
   "name": "scala",
   "pygments_lexer": "scala",
   "version": "0.4.1"
  }
 },
 "nbformat": 4,
 "nbformat_minor": 5
}
