{
 "cells": [
  {
   "cell_type": "markdown",
   "id": "proper-marking",
   "metadata": {},
   "source": [
    "#### Ejercicio 1"
   ]
  },
  {
   "cell_type": "code",
   "execution_count": 17,
   "id": "simplified-booking",
   "metadata": {},
   "outputs": [
    {
     "data": {
      "text/plain": [
       "defined object Methods\n"
      ]
     },
     "execution_count": 17,
     "metadata": {},
     "output_type": "execute_result"
    }
   ],
   "source": [
    "object Methods {\n",
    "    def getUser(username: String): String = username.split(\"@\")(0)\n",
    "    def loginUser(username: String, password: String): Boolean = {\n",
    "        username == \"awainer\" && password == \"123\"\n",
    "    }\n",
    "}"
   ]
  },
  {
   "cell_type": "code",
   "execution_count": 18,
   "id": "stuck-processor",
   "metadata": {},
   "outputs": [
    {
     "data": {
      "text/plain": [
       "defined class User\n"
      ]
     },
     "execution_count": 18,
     "metadata": {},
     "output_type": "execute_result"
    }
   ],
   "source": [
    "class User(val username: String, val password: String) {\n",
    "    require(username != null, \n",
    "            \"User name must not be empty\")\n",
    "    require(password != null && \n",
    "            password != \"\", \n",
    "            \"User password must not be null\")\n",
    "}"
   ]
  },
  {
   "cell_type": "code",
   "execution_count": 19,
   "id": "union-julian",
   "metadata": {},
   "outputs": [
    {
     "data": {
      "text/plain": [
       "defined object Login\n"
      ]
     },
     "execution_count": 19,
     "metadata": {},
     "output_type": "execute_result"
    }
   ],
   "source": [
    "object Login {\n",
    "    def checkLogin(user: User): Boolean = {\n",
    "        val userParsed = Methods.getUser(user.username)\n",
    "        val userVerified = Methods.loginUser(userParsed, user.password)\n",
    "    \n",
    "        if (userVerified) {\n",
    "            println(\"Login successful\"); return true \n",
    "        }\n",
    "        println(\"Invalid username or password\"); false\n",
    "    }\n",
    "}"
   ]
  },
  {
   "cell_type": "code",
   "execution_count": 20,
   "id": "valuable-rochester",
   "metadata": {},
   "outputs": [
    {
     "data": {
      "text/plain": [
       "user1: User = User@126ca10e\n",
       "user2: User = User@65920829\n",
       "user3: User = User@31bf962a\n"
      ]
     },
     "execution_count": 20,
     "metadata": {},
     "output_type": "execute_result"
    }
   ],
   "source": [
    "val user1 = new User(\"awainer@demo.com\", \"1234\")\n",
    "val user2 = new User(\"\", \"123\")\n",
    "val user3 = new User(\"awainer@demo.com\", \"123\")"
   ]
  },
  {
   "cell_type": "code",
   "execution_count": 21,
   "id": "crazy-population",
   "metadata": {},
   "outputs": [
    {
     "name": "stdout",
     "output_type": "stream",
     "text": [
      "Invalid username or password\n",
      "Invalid username or password\n",
      "Login successful\n"
     ]
    },
    {
     "data": {
      "text/plain": [
       "res4: Boolean = true\n"
      ]
     },
     "execution_count": 21,
     "metadata": {},
     "output_type": "execute_result"
    }
   ],
   "source": [
    "Login.checkLogin(user1)\n",
    "Login.checkLogin(user2)\n",
    "Login.checkLogin(user3)"
   ]
  },
  {
   "cell_type": "code",
   "execution_count": null,
   "id": "focused-victorian",
   "metadata": {},
   "outputs": [],
   "source": []
  }
 ],
 "metadata": {
  "kernelspec": {
   "display_name": "spylon-kernel",
   "language": "scala",
   "name": "spylon-kernel"
  },
  "language_info": {
   "codemirror_mode": "text/x-scala",
   "file_extension": ".scala",
   "help_links": [
    {
     "text": "MetaKernel Magics",
     "url": "https://metakernel.readthedocs.io/en/latest/source/README.html"
    }
   ],
   "mimetype": "text/x-scala",
   "name": "scala",
   "pygments_lexer": "scala",
   "version": "0.4.1"
  }
 },
 "nbformat": 4,
 "nbformat_minor": 5
}
